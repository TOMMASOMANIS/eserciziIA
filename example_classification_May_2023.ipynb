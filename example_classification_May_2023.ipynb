{
  "nbformat": 4,
  "nbformat_minor": 0,
  "metadata": {
    "colab": {
      "provenance": [],
      "include_colab_link": true
    },
    "kernelspec": {
      "name": "python3",
      "display_name": "Python 3"
    },
    "language_info": {
      "name": "python"
    }
  },
  "cells": [
    {
      "cell_type": "markdown",
      "metadata": {
        "id": "view-in-github",
        "colab_type": "text"
      },
      "source": [
        "<a href=\"https://colab.research.google.com/github/TOMMASOMANIS/eserciziIA/blob/main/example_classification_May_2023.ipynb\" target=\"_parent\"><img src=\"https://colab.research.google.com/assets/colab-badge.svg\" alt=\"Open In Colab\"/></a>"
      ]
    },
    {
      "cell_type": "markdown",
      "source": [
        "##Dataset upload"
      ],
      "metadata": {
        "id": "sIAj9XZH1wSJ"
      }
    },
    {
      "cell_type": "code",
      "source": [
        "import csv\n",
        "import shutil\n",
        "import sys\n",
        "import pandas as pd"
      ],
      "metadata": {
        "id": "ctWEPDIAwSXu"
      },
      "execution_count": null,
      "outputs": []
    },
    {
      "cell_type": "code",
      "source": [
        "shutil.rmtree('/content/classification', ignore_errors=True)"
      ],
      "metadata": {
        "id": "EIQ1xYXvwdE-"
      },
      "execution_count": null,
      "outputs": []
    },
    {
      "cell_type": "code",
      "source": [
        "!git clone https://github.com/metavivo/classification.git"
      ],
      "metadata": {
        "id": "AzdaWl2IwvNI"
      },
      "execution_count": null,
      "outputs": []
    },
    {
      "cell_type": "code",
      "source": [
        "sys.path.append('/content/classification/data/')\n",
        "data_path = '/content/classification/data/'\n",
        "data_filename = data_path + 'classification_5000.csv'\n",
        "print(data_filename)"
      ],
      "metadata": {
        "id": "dtE-0jNQw6DA"
      },
      "execution_count": null,
      "outputs": []
    },
    {
      "cell_type": "code",
      "source": [
        "f = open('/content/classification/README.md', 'r')"
      ],
      "metadata": {
        "id": "Kyql7OJbzvXW"
      },
      "execution_count": null,
      "outputs": []
    },
    {
      "cell_type": "code",
      "source": [
        "df = pd.read_csv(data_filename)"
      ],
      "metadata": {
        "id": "FqM9457DwqR9"
      },
      "execution_count": null,
      "outputs": []
    },
    {
      "cell_type": "code",
      "source": [
        "# Display the firsts and lasts lines of the file\n",
        "df"
      ],
      "metadata": {
        "id": "37_Mr9pv0-xc"
      },
      "execution_count": null,
      "outputs": []
    },
    {
      "cell_type": "markdown",
      "source": [
        "##Reading a file with Pandas"
      ],
      "metadata": {
        "id": "v54DCq8M1628"
      }
    },
    {
      "cell_type": "code",
      "source": [
        "# Display basic information regarding the dataset types\n",
        "df.info()\n"
      ],
      "metadata": {
        "id": "F_IPigrL2XHx"
      },
      "execution_count": null,
      "outputs": []
    },
    {
      "cell_type": "code",
      "source": [
        "# Display basic descriptive statistics\n",
        "df.describe()\n"
      ],
      "metadata": {
        "id": "rfR5-2GD2dId"
      },
      "execution_count": null,
      "outputs": []
    },
    {
      "cell_type": "code",
      "source": [
        "# Creates a correlation matrix to identify basic relationships between variables\n",
        "df.corr()\n"
      ],
      "metadata": {
        "id": "BzaE0HA22hqE"
      },
      "execution_count": null,
      "outputs": []
    },
    {
      "cell_type": "markdown",
      "source": [
        "##Data Preparation with Pandas and SciKit-Learn"
      ],
      "metadata": {
        "id": "Z49s_hvj2lcW"
      }
    },
    {
      "cell_type": "code",
      "source": [
        "# Import the function to randomly split the dataset into Training and Testing sets\n",
        "from sklearn.model_selection import train_test_split\n"
      ],
      "metadata": {
        "id": "XpTZQuTw2maV"
      },
      "execution_count": null,
      "outputs": []
    },
    {
      "cell_type": "code",
      "source": [
        "# Extracts the Quality_type column to create a y dataframe\n",
        "y = df[\"Quality_type\"]\n",
        "\n",
        "# Extract the other columns from the dataset to create an X dataframe\n",
        "X = df.drop([\"DateTime\", \"Quality_type\"], axis=1)\n",
        "\n",
        "# Split X and y vectors into Training (80%) and Testing (20%)\n",
        "X_train, X_test, y_train, y_test = train_test_split(X, y,\n",
        "                                                    test_size=0.20,\n",
        "                                                    random_state=22)\n",
        "\n",
        "print (\"X_train:\", X_train.shape)\n",
        "print (\"X_test:\", X_test.shape)\n",
        "print (\"y_train:\", y_train.shape)\n",
        "print (\"y_test:\", y_test.shape)\n"
      ],
      "metadata": {
        "id": "F6neBoqM2tHH"
      },
      "execution_count": null,
      "outputs": []
    },
    {
      "cell_type": "markdown",
      "source": [
        "##Model Creation, Training and Evaluation "
      ],
      "metadata": {
        "id": "xt6sIkct22lf"
      }
    },
    {
      "cell_type": "code",
      "source": [
        "# Import the Machine Learning Algorithm: Random Forest Regressor\n",
        "from sklearn.ensemble import RandomForestClassifier\n",
        "\n",
        "# Declares rfr as the Random Forest algorithm\n",
        "rfc = RandomForestClassifier()\n",
        "\n",
        "# Launch Random Forest training\n",
        "rfc.fit(X_train, y_train)\n"
      ],
      "metadata": {
        "id": "FqO1zwj823hk"
      },
      "execution_count": null,
      "outputs": []
    },
    {
      "cell_type": "code",
      "source": [
        "# Evaluates the performance on the Training Set\n",
        "rfc.score(X_train, y_train)\n"
      ],
      "metadata": {
        "id": "__8PadSr2-7m"
      },
      "execution_count": null,
      "outputs": []
    },
    {
      "cell_type": "code",
      "source": [
        "# Evaluates the performance on the Test Set\n",
        "rfc.score(X_test, y_test)\n"
      ],
      "metadata": {
        "id": "yobj0EQ_3CXh"
      },
      "execution_count": null,
      "outputs": []
    },
    {
      "cell_type": "code",
      "source": [
        "# Let's compare predictions with actual values\n",
        "df[\"Quality_prediction\"] = rfc.predict(X)\n",
        "df.sample(15, random_state=22)\n"
      ],
      "metadata": {
        "id": "PBzJCQ9a3GXd"
      },
      "execution_count": null,
      "outputs": []
    },
    {
      "cell_type": "markdown",
      "source": [
        "##Features Importance"
      ],
      "metadata": {
        "id": "eImn9SFO3NZ5"
      }
    },
    {
      "cell_type": "code",
      "source": [
        "# Raw features importance display\n",
        "rfc.feature_importances_\n"
      ],
      "metadata": {
        "id": "xpaudi0f3N4L"
      },
      "execution_count": null,
      "outputs": []
    },
    {
      "cell_type": "code",
      "source": [
        "# Let's create a DataFrame containing the features importance\n",
        "rfc_imp = pd.DataFrame(rfc.feature_importances_, columns=['Importance'])\n",
        "\n",
        "# Let's multiply the importance value by 100 to ease reading\n",
        "rfc_imp[\"Importance\"] = rfc_imp[\"Importance\"]*100\n",
        "\n",
        "# Let's use the features names as Index\n",
        "rfc_imp = rfc_imp.set_index([X.columns])\n",
        "\n",
        "# Let's display the DataFrame with descending Importance values\n",
        "display(rfc_imp.sort_values(by=\"Importance\", ascending=False))\n"
      ],
      "metadata": {
        "id": "ZanDUu4b3UAA"
      },
      "execution_count": null,
      "outputs": []
    },
    {
      "cell_type": "markdown",
      "source": [
        "## Prediction (Valitutti)"
      ],
      "metadata": {
        "id": "hdltI7rE4Bxz"
      }
    },
    {
      "cell_type": "code",
      "source": [
        "print(rfc.predict(X))"
      ],
      "metadata": {
        "id": "KVpTq-Qi4EFY"
      },
      "execution_count": null,
      "outputs": []
    },
    {
      "cell_type": "code",
      "source": [
        "for el in rfc.predict(X[0:10]):\n",
        "  print(el)"
      ],
      "metadata": {
        "id": "3PQxVjNu4M_6"
      },
      "execution_count": null,
      "outputs": []
    }
  ]
}